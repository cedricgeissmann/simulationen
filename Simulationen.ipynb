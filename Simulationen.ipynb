{
 "cells": [
  {
   "cell_type": "markdown",
   "id": "fbb5a11d",
   "metadata": {
    "slideshow": {
     "slide_type": "slide"
    }
   },
   "source": [
    "#  Simulationen mit Python"
   ]
  },
  {
   "cell_type": "markdown",
   "id": "258302f7",
   "metadata": {
    "slideshow": {
     "slide_type": "fragment"
    }
   },
   "source": [
    "- Praktische Umgebung mit Jupyter\n",
    "- Kann komplexes Interface einfach implementieren\n",
    "- Ganze Macht von Python steht zur Verfügung\n",
    "- Simpy ist eine gute Bibliothek für Simulationen\n",
    "- Viele Möglichkeiten der Visualisierung\n",
    "- Modernes Framework\n",
    "- Viele Ressourcen im Internet"
   ]
  },
  {
   "cell_type": "markdown",
   "id": "13aace83",
   "metadata": {
    "slideshow": {
     "slide_type": "slide"
    }
   },
   "source": [
    "# Beispiel Self-Checkout\n",
    "\n",
    "Simuliere die Situation in einem Einkaufsladen mit Self-Checkout"
   ]
  },
  {
   "cell_type": "code",
   "execution_count": 9,
   "id": "3624ef03",
   "metadata": {
    "slideshow": {
     "slide_type": "slide"
    }
   },
   "outputs": [],
   "source": [
    "import simpy\n",
    "import random\n",
    "\n",
    "class Store():\n",
    "    def __init__(self, env, num_cashiers, num_checkouts):\n",
    "        self.env = env\n",
    "        self.cashier = simpy.Resource(env, num_cashiers)\n",
    "        self.checkout = simpy.Resource(env, num_checkouts)\n",
    "        \n",
    "    def pay_at_checkout(self, customer):\n",
    "        if customer.age < 50:\n",
    "            time_needed = random.randint(1, 4)\n",
    "        elif customer.age < 60:\n",
    "            time_needed = random.randint(1, 6)\n",
    "        else:\n",
    "            time_needed = random.randint(10, 20)\n",
    "        yield self.env.timeout(time_needed)\n",
    "        \n",
    "    def pay_at_cashier(self, customer):\n",
    "        yield self.env.timeout(random.randint(1, 2))"
   ]
  },
  {
   "cell_type": "code",
   "execution_count": 2,
   "id": "860a1e91",
   "metadata": {
    "slideshow": {
     "slide_type": "slide"
    }
   },
   "outputs": [],
   "source": [
    "def go_shopping(env, customer, store):\n",
    "    arrival_time = env.now\n",
    "    G['customers_waiting'] += 1\n",
    "    \n",
    "    if G['customers_waiting'] > 10:\n",
    "        store.cashier = simpy.Resource(env, G['max_num_cashiers'])\n",
    "    else:\n",
    "        store.cashier = simpy.Resource(env, G['min_num_cashiers'])\n",
    "    \n",
    "    with store.cashier.request() as request:\n",
    "        yield request\n",
    "        yield env.process(store.pay_at_cashier(customer))\n",
    "        \n",
    "    with store.checkout.request() as request:\n",
    "        yield request\n",
    "        yield env.process(store.pay_at_checkout(customer))\n",
    "    \n",
    "    G['wait_times'].append(env.now - arrival_time)\n",
    "    G['customers_waiting'] -= 1"
   ]
  },
  {
   "cell_type": "code",
   "execution_count": 3,
   "id": "daa08f76",
   "metadata": {
    "slideshow": {
     "slide_type": "slide"
    }
   },
   "outputs": [],
   "source": [
    "class Customer():\n",
    "    def __init__(self, id):\n",
    "        self.id = id\n",
    "        self.age = random.randint(20, 70)"
   ]
  },
  {
   "cell_type": "code",
   "execution_count": 4,
   "id": "f67d7ece",
   "metadata": {
    "slideshow": {
     "slide_type": "slide"
    }
   },
   "outputs": [],
   "source": [
    "def run_store(env, num_cashiers, num_checkouts):\n",
    "    store = Store(env, num_cashiers, num_checkouts)\n",
    "    \n",
    "    for i in range(20):\n",
    "        customer = Customer(i)\n",
    "        env.process(go_shopping(env, customer, store))\n",
    "        \n",
    "    i = 0\n",
    "    while True:\n",
    "        yield env.timeout(random.randint(1, 3))\n",
    "        \n",
    "        i += 1\n",
    "        customer = Customer(i)\n",
    "        env.process(go_shopping(env, customer, store))"
   ]
  },
  {
   "cell_type": "code",
   "execution_count": 5,
   "id": "c3332daa",
   "metadata": {
    "slideshow": {
     "slide_type": "slide"
    }
   },
   "outputs": [],
   "source": [
    "def run_simulation():\n",
    "    random.seed(42)\n",
    "    num_cashiers = G['init_num_cashiers']\n",
    "    num_checkouts = G['init_num_checkouts']\n",
    "    \n",
    "    env = simpy.Environment()\n",
    "    env.process(run_store(env, num_cashiers, num_checkouts))\n",
    "    env.run(until=90)\n",
    "    \n",
    "    return env"
   ]
  },
  {
   "cell_type": "code",
   "execution_count": 6,
   "id": "ffc3e162",
   "metadata": {
    "slideshow": {
     "slide_type": "slide"
    }
   },
   "outputs": [],
   "source": [
    "# Globals\n",
    "\n",
    "G = {\n",
    "    'wait_times': [],\n",
    "    'customers_waiting': 0,\n",
    "    'max_num_cashiers': 10,\n",
    "    'min_num_cashiers': 2,\n",
    "    'init_num_cashiers': 2,\n",
    "    'init_num_checkouts': 4,\n",
    "}"
   ]
  },
  {
   "cell_type": "code",
   "execution_count": 12,
   "id": "ca6c1bad",
   "metadata": {
    "slideshow": {
     "slide_type": "slide"
    }
   },
   "outputs": [
    {
     "name": "stdout",
     "output_type": "stream",
     "text": [
      "11.307692307692308\n"
     ]
    }
   ],
   "source": [
    "import statistics\n",
    "\n",
    "# Change testing parameter\n",
    "G['init_num_checkouts'] = 8\n",
    "\n",
    "simulation = run_simulation()\n",
    "print(f\"{statistics.mean(G['wait_times'])}\")"
   ]
  },
  {
   "cell_type": "markdown",
   "id": "63dc377a",
   "metadata": {
    "slideshow": {
     "slide_type": "slide"
    }
   },
   "source": [
    "# Jupyter\n",
    "\n",
    "- Code kann in Zellen separiert werden\n",
    "- Kann nur einzellne Zellen ausführen\n",
    "- Kann auch Skripte importiren"
   ]
  },
  {
   "cell_type": "markdown",
   "id": "15521e45",
   "metadata": {
    "slideshow": {
     "slide_type": "slide"
    }
   },
   "source": [
    "# Simpy\n",
    "\n",
    "- Framework für Simulationen\n",
    "- Nimmt viel der Arbeit ab\n",
    "- Gute Dokumentation\n",
    "- Kann Simulationen am Stück rechnen oder in Echtzeit\n",
    "- Keine direkte Visualisierung"
   ]
  }
 ],
 "metadata": {
  "celltoolbar": "Slideshow",
  "kernelspec": {
   "display_name": "Python 3 (ipykernel)",
   "language": "python",
   "name": "python3"
  },
  "language_info": {
   "codemirror_mode": {
    "name": "ipython",
    "version": 3
   },
   "file_extension": ".py",
   "mimetype": "text/x-python",
   "name": "python",
   "nbconvert_exporter": "python",
   "pygments_lexer": "ipython3",
   "version": "3.9.7"
  }
 },
 "nbformat": 4,
 "nbformat_minor": 5
}
